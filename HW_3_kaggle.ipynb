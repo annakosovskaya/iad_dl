{
  "nbformat": 4,
  "nbformat_minor": 0,
  "metadata": {
    "kernelspec": {
      "display_name": "Python 3",
      "language": "python",
      "name": "python3"
    },
    "language_info": {
      "codemirror_mode": {
        "name": "ipython",
        "version": 3
      },
      "file_extension": ".py",
      "mimetype": "text/x-python",
      "name": "python",
      "nbconvert_exporter": "python",
      "pygments_lexer": "ipython3",
      "version": "3.9.0"
    },
    "colab": {
      "name": "hw3_kaggle.ipynb",
      "provenance": [],
      "collapsed_sections": []
    },
    "accelerator": "GPU",
    "widgets": {
      "application/vnd.jupyter.widget-state+json": {
        "e67bc1ffe4ca445b86bed843083d5a90": {
          "model_module": "@jupyter-widgets/controls",
          "model_name": "HBoxModel",
          "model_module_version": "1.5.0",
          "state": {
            "_view_name": "HBoxView",
            "_dom_classes": [],
            "_model_name": "HBoxModel",
            "_view_module": "@jupyter-widgets/controls",
            "_model_module_version": "1.5.0",
            "_view_count": null,
            "_view_module_version": "1.5.0",
            "box_style": "",
            "layout": "IPY_MODEL_de51f3ec21574fbd9ced6e3e6a3e6a3b",
            "_model_module": "@jupyter-widgets/controls",
            "children": [
              "IPY_MODEL_a622ee9e5a774ca6ba47124ed46aef7e",
              "IPY_MODEL_78d8c4ecfa0949e0b4f1a0b9a10c526f",
              "IPY_MODEL_899604cfb7314c59993b8d1002fb6fb5"
            ]
          }
        },
        "de51f3ec21574fbd9ced6e3e6a3e6a3b": {
          "model_module": "@jupyter-widgets/base",
          "model_name": "LayoutModel",
          "model_module_version": "1.2.0",
          "state": {
            "_view_name": "LayoutView",
            "grid_template_rows": null,
            "right": null,
            "justify_content": null,
            "_view_module": "@jupyter-widgets/base",
            "overflow": null,
            "_model_module_version": "1.2.0",
            "_view_count": null,
            "flex_flow": null,
            "width": null,
            "min_width": null,
            "border": null,
            "align_items": null,
            "bottom": null,
            "_model_module": "@jupyter-widgets/base",
            "top": null,
            "grid_column": null,
            "overflow_y": null,
            "overflow_x": null,
            "grid_auto_flow": null,
            "grid_area": null,
            "grid_template_columns": null,
            "flex": null,
            "_model_name": "LayoutModel",
            "justify_items": null,
            "grid_row": null,
            "max_height": null,
            "align_content": null,
            "visibility": null,
            "align_self": null,
            "height": null,
            "min_height": null,
            "padding": null,
            "grid_auto_rows": null,
            "grid_gap": null,
            "max_width": null,
            "order": null,
            "_view_module_version": "1.2.0",
            "grid_template_areas": null,
            "object_position": null,
            "object_fit": null,
            "grid_auto_columns": null,
            "margin": null,
            "display": null,
            "left": null
          }
        },
        "a622ee9e5a774ca6ba47124ed46aef7e": {
          "model_module": "@jupyter-widgets/controls",
          "model_name": "HTMLModel",
          "model_module_version": "1.5.0",
          "state": {
            "_view_name": "HTMLView",
            "style": "IPY_MODEL_c984b103ad394893b4f2ec805653eb58",
            "_dom_classes": [],
            "description": "",
            "_model_name": "HTMLModel",
            "placeholder": "​",
            "_view_module": "@jupyter-widgets/controls",
            "_model_module_version": "1.5.0",
            "value": "Train mae: 0.9076: 100%",
            "_view_count": null,
            "_view_module_version": "1.5.0",
            "description_tooltip": null,
            "_model_module": "@jupyter-widgets/controls",
            "layout": "IPY_MODEL_7b6834483d484547baa7f040b14a106a"
          }
        },
        "78d8c4ecfa0949e0b4f1a0b9a10c526f": {
          "model_module": "@jupyter-widgets/controls",
          "model_name": "FloatProgressModel",
          "model_module_version": "1.5.0",
          "state": {
            "_view_name": "ProgressView",
            "style": "IPY_MODEL_1dc56b91fa8344739ac8f523838c5d4b",
            "_dom_classes": [],
            "description": "",
            "_model_name": "FloatProgressModel",
            "bar_style": "success",
            "max": 18749,
            "_view_module": "@jupyter-widgets/controls",
            "_model_module_version": "1.5.0",
            "value": 18749,
            "_view_count": null,
            "_view_module_version": "1.5.0",
            "orientation": "horizontal",
            "min": 0,
            "description_tooltip": null,
            "_model_module": "@jupyter-widgets/controls",
            "layout": "IPY_MODEL_b31ab7fd63f944e0a8758936301a2b94"
          }
        },
        "899604cfb7314c59993b8d1002fb6fb5": {
          "model_module": "@jupyter-widgets/controls",
          "model_name": "HTMLModel",
          "model_module_version": "1.5.0",
          "state": {
            "_view_name": "HTMLView",
            "style": "IPY_MODEL_d61d81e01e984255b46ce414e1bcca0c",
            "_dom_classes": [],
            "description": "",
            "_model_name": "HTMLModel",
            "placeholder": "​",
            "_view_module": "@jupyter-widgets/controls",
            "_model_module_version": "1.5.0",
            "value": " 18749/18749 [1:14:17&lt;00:00, 13.38it/s]",
            "_view_count": null,
            "_view_module_version": "1.5.0",
            "description_tooltip": null,
            "_model_module": "@jupyter-widgets/controls",
            "layout": "IPY_MODEL_f7dd181bf77842aeb584d4a1f78d28ad"
          }
        },
        "c984b103ad394893b4f2ec805653eb58": {
          "model_module": "@jupyter-widgets/controls",
          "model_name": "DescriptionStyleModel",
          "model_module_version": "1.5.0",
          "state": {
            "_view_name": "StyleView",
            "_model_name": "DescriptionStyleModel",
            "description_width": "",
            "_view_module": "@jupyter-widgets/base",
            "_model_module_version": "1.5.0",
            "_view_count": null,
            "_view_module_version": "1.2.0",
            "_model_module": "@jupyter-widgets/controls"
          }
        },
        "7b6834483d484547baa7f040b14a106a": {
          "model_module": "@jupyter-widgets/base",
          "model_name": "LayoutModel",
          "model_module_version": "1.2.0",
          "state": {
            "_view_name": "LayoutView",
            "grid_template_rows": null,
            "right": null,
            "justify_content": null,
            "_view_module": "@jupyter-widgets/base",
            "overflow": null,
            "_model_module_version": "1.2.0",
            "_view_count": null,
            "flex_flow": null,
            "width": null,
            "min_width": null,
            "border": null,
            "align_items": null,
            "bottom": null,
            "_model_module": "@jupyter-widgets/base",
            "top": null,
            "grid_column": null,
            "overflow_y": null,
            "overflow_x": null,
            "grid_auto_flow": null,
            "grid_area": null,
            "grid_template_columns": null,
            "flex": null,
            "_model_name": "LayoutModel",
            "justify_items": null,
            "grid_row": null,
            "max_height": null,
            "align_content": null,
            "visibility": null,
            "align_self": null,
            "height": null,
            "min_height": null,
            "padding": null,
            "grid_auto_rows": null,
            "grid_gap": null,
            "max_width": null,
            "order": null,
            "_view_module_version": "1.2.0",
            "grid_template_areas": null,
            "object_position": null,
            "object_fit": null,
            "grid_auto_columns": null,
            "margin": null,
            "display": null,
            "left": null
          }
        },
        "1dc56b91fa8344739ac8f523838c5d4b": {
          "model_module": "@jupyter-widgets/controls",
          "model_name": "ProgressStyleModel",
          "model_module_version": "1.5.0",
          "state": {
            "_view_name": "StyleView",
            "_model_name": "ProgressStyleModel",
            "description_width": "",
            "_view_module": "@jupyter-widgets/base",
            "_model_module_version": "1.5.0",
            "_view_count": null,
            "_view_module_version": "1.2.0",
            "bar_color": null,
            "_model_module": "@jupyter-widgets/controls"
          }
        },
        "b31ab7fd63f944e0a8758936301a2b94": {
          "model_module": "@jupyter-widgets/base",
          "model_name": "LayoutModel",
          "model_module_version": "1.2.0",
          "state": {
            "_view_name": "LayoutView",
            "grid_template_rows": null,
            "right": null,
            "justify_content": null,
            "_view_module": "@jupyter-widgets/base",
            "overflow": null,
            "_model_module_version": "1.2.0",
            "_view_count": null,
            "flex_flow": null,
            "width": null,
            "min_width": null,
            "border": null,
            "align_items": null,
            "bottom": null,
            "_model_module": "@jupyter-widgets/base",
            "top": null,
            "grid_column": null,
            "overflow_y": null,
            "overflow_x": null,
            "grid_auto_flow": null,
            "grid_area": null,
            "grid_template_columns": null,
            "flex": null,
            "_model_name": "LayoutModel",
            "justify_items": null,
            "grid_row": null,
            "max_height": null,
            "align_content": null,
            "visibility": null,
            "align_self": null,
            "height": null,
            "min_height": null,
            "padding": null,
            "grid_auto_rows": null,
            "grid_gap": null,
            "max_width": null,
            "order": null,
            "_view_module_version": "1.2.0",
            "grid_template_areas": null,
            "object_position": null,
            "object_fit": null,
            "grid_auto_columns": null,
            "margin": null,
            "display": null,
            "left": null
          }
        },
        "d61d81e01e984255b46ce414e1bcca0c": {
          "model_module": "@jupyter-widgets/controls",
          "model_name": "DescriptionStyleModel",
          "model_module_version": "1.5.0",
          "state": {
            "_view_name": "StyleView",
            "_model_name": "DescriptionStyleModel",
            "description_width": "",
            "_view_module": "@jupyter-widgets/base",
            "_model_module_version": "1.5.0",
            "_view_count": null,
            "_view_module_version": "1.2.0",
            "_model_module": "@jupyter-widgets/controls"
          }
        },
        "f7dd181bf77842aeb584d4a1f78d28ad": {
          "model_module": "@jupyter-widgets/base",
          "model_name": "LayoutModel",
          "model_module_version": "1.2.0",
          "state": {
            "_view_name": "LayoutView",
            "grid_template_rows": null,
            "right": null,
            "justify_content": null,
            "_view_module": "@jupyter-widgets/base",
            "overflow": null,
            "_model_module_version": "1.2.0",
            "_view_count": null,
            "flex_flow": null,
            "width": null,
            "min_width": null,
            "border": null,
            "align_items": null,
            "bottom": null,
            "_model_module": "@jupyter-widgets/base",
            "top": null,
            "grid_column": null,
            "overflow_y": null,
            "overflow_x": null,
            "grid_auto_flow": null,
            "grid_area": null,
            "grid_template_columns": null,
            "flex": null,
            "_model_name": "LayoutModel",
            "justify_items": null,
            "grid_row": null,
            "max_height": null,
            "align_content": null,
            "visibility": null,
            "align_self": null,
            "height": null,
            "min_height": null,
            "padding": null,
            "grid_auto_rows": null,
            "grid_gap": null,
            "max_width": null,
            "order": null,
            "_view_module_version": "1.2.0",
            "grid_template_areas": null,
            "object_position": null,
            "object_fit": null,
            "grid_auto_columns": null,
            "margin": null,
            "display": null,
            "left": null
          }
        },
        "83a37525f5a7463d8ada3b67cd322a5c": {
          "model_module": "@jupyter-widgets/controls",
          "model_name": "HBoxModel",
          "model_module_version": "1.5.0",
          "state": {
            "_view_name": "HBoxView",
            "_dom_classes": [],
            "_model_name": "HBoxModel",
            "_view_module": "@jupyter-widgets/controls",
            "_model_module_version": "1.5.0",
            "_view_count": null,
            "_view_module_version": "1.5.0",
            "box_style": "",
            "layout": "IPY_MODEL_e38772ea14a74a69a09568a70f05e58f",
            "_model_module": "@jupyter-widgets/controls",
            "children": [
              "IPY_MODEL_f667183c389647a28a719564e4c60eda",
              "IPY_MODEL_a970827418de48e8be355db58ce747d5",
              "IPY_MODEL_efadf05867fb4aee8c9a93154762a982"
            ]
          }
        },
        "e38772ea14a74a69a09568a70f05e58f": {
          "model_module": "@jupyter-widgets/base",
          "model_name": "LayoutModel",
          "model_module_version": "1.2.0",
          "state": {
            "_view_name": "LayoutView",
            "grid_template_rows": null,
            "right": null,
            "justify_content": null,
            "_view_module": "@jupyter-widgets/base",
            "overflow": null,
            "_model_module_version": "1.2.0",
            "_view_count": null,
            "flex_flow": null,
            "width": null,
            "min_width": null,
            "border": null,
            "align_items": null,
            "bottom": null,
            "_model_module": "@jupyter-widgets/base",
            "top": null,
            "grid_column": null,
            "overflow_y": null,
            "overflow_x": null,
            "grid_auto_flow": null,
            "grid_area": null,
            "grid_template_columns": null,
            "flex": null,
            "_model_name": "LayoutModel",
            "justify_items": null,
            "grid_row": null,
            "max_height": null,
            "align_content": null,
            "visibility": null,
            "align_self": null,
            "height": null,
            "min_height": null,
            "padding": null,
            "grid_auto_rows": null,
            "grid_gap": null,
            "max_width": null,
            "order": null,
            "_view_module_version": "1.2.0",
            "grid_template_areas": null,
            "object_position": null,
            "object_fit": null,
            "grid_auto_columns": null,
            "margin": null,
            "display": null,
            "left": null
          }
        },
        "f667183c389647a28a719564e4c60eda": {
          "model_module": "@jupyter-widgets/controls",
          "model_name": "HTMLModel",
          "model_module_version": "1.5.0",
          "state": {
            "_view_name": "HTMLView",
            "style": "IPY_MODEL_f401e9b761014c58a75b8519d649b3f0",
            "_dom_classes": [],
            "description": "",
            "_model_name": "HTMLModel",
            "placeholder": "​",
            "_view_module": "@jupyter-widgets/controls",
            "_model_module_version": "1.5.0",
            "value": "Train mae: 0.7983: 100%",
            "_view_count": null,
            "_view_module_version": "1.5.0",
            "description_tooltip": null,
            "_model_module": "@jupyter-widgets/controls",
            "layout": "IPY_MODEL_7ddd6fea02a54162a77c8f7f48fda4de"
          }
        },
        "a970827418de48e8be355db58ce747d5": {
          "model_module": "@jupyter-widgets/controls",
          "model_name": "FloatProgressModel",
          "model_module_version": "1.5.0",
          "state": {
            "_view_name": "ProgressView",
            "style": "IPY_MODEL_93022ae66c684347b77c4d1131421e0a",
            "_dom_classes": [],
            "description": "",
            "_model_name": "FloatProgressModel",
            "bar_style": "success",
            "max": 18749,
            "_view_module": "@jupyter-widgets/controls",
            "_model_module_version": "1.5.0",
            "value": 18749,
            "_view_count": null,
            "_view_module_version": "1.5.0",
            "orientation": "horizontal",
            "min": 0,
            "description_tooltip": null,
            "_model_module": "@jupyter-widgets/controls",
            "layout": "IPY_MODEL_6aa4e92155064bd7a1b47194ab143877"
          }
        },
        "efadf05867fb4aee8c9a93154762a982": {
          "model_module": "@jupyter-widgets/controls",
          "model_name": "HTMLModel",
          "model_module_version": "1.5.0",
          "state": {
            "_view_name": "HTMLView",
            "style": "IPY_MODEL_c48251ef58fb4854be30c9f498d3219f",
            "_dom_classes": [],
            "description": "",
            "_model_name": "HTMLModel",
            "placeholder": "​",
            "_view_module": "@jupyter-widgets/controls",
            "_model_module_version": "1.5.0",
            "value": " 18749/18749 [46:15&lt;00:00, 13.55it/s]",
            "_view_count": null,
            "_view_module_version": "1.5.0",
            "description_tooltip": null,
            "_model_module": "@jupyter-widgets/controls",
            "layout": "IPY_MODEL_2be390a83a9e421492802120e1878c14"
          }
        },
        "f401e9b761014c58a75b8519d649b3f0": {
          "model_module": "@jupyter-widgets/controls",
          "model_name": "DescriptionStyleModel",
          "model_module_version": "1.5.0",
          "state": {
            "_view_name": "StyleView",
            "_model_name": "DescriptionStyleModel",
            "description_width": "",
            "_view_module": "@jupyter-widgets/base",
            "_model_module_version": "1.5.0",
            "_view_count": null,
            "_view_module_version": "1.2.0",
            "_model_module": "@jupyter-widgets/controls"
          }
        },
        "7ddd6fea02a54162a77c8f7f48fda4de": {
          "model_module": "@jupyter-widgets/base",
          "model_name": "LayoutModel",
          "model_module_version": "1.2.0",
          "state": {
            "_view_name": "LayoutView",
            "grid_template_rows": null,
            "right": null,
            "justify_content": null,
            "_view_module": "@jupyter-widgets/base",
            "overflow": null,
            "_model_module_version": "1.2.0",
            "_view_count": null,
            "flex_flow": null,
            "width": null,
            "min_width": null,
            "border": null,
            "align_items": null,
            "bottom": null,
            "_model_module": "@jupyter-widgets/base",
            "top": null,
            "grid_column": null,
            "overflow_y": null,
            "overflow_x": null,
            "grid_auto_flow": null,
            "grid_area": null,
            "grid_template_columns": null,
            "flex": null,
            "_model_name": "LayoutModel",
            "justify_items": null,
            "grid_row": null,
            "max_height": null,
            "align_content": null,
            "visibility": null,
            "align_self": null,
            "height": null,
            "min_height": null,
            "padding": null,
            "grid_auto_rows": null,
            "grid_gap": null,
            "max_width": null,
            "order": null,
            "_view_module_version": "1.2.0",
            "grid_template_areas": null,
            "object_position": null,
            "object_fit": null,
            "grid_auto_columns": null,
            "margin": null,
            "display": null,
            "left": null
          }
        },
        "93022ae66c684347b77c4d1131421e0a": {
          "model_module": "@jupyter-widgets/controls",
          "model_name": "ProgressStyleModel",
          "model_module_version": "1.5.0",
          "state": {
            "_view_name": "StyleView",
            "_model_name": "ProgressStyleModel",
            "description_width": "",
            "_view_module": "@jupyter-widgets/base",
            "_model_module_version": "1.5.0",
            "_view_count": null,
            "_view_module_version": "1.2.0",
            "bar_color": null,
            "_model_module": "@jupyter-widgets/controls"
          }
        },
        "6aa4e92155064bd7a1b47194ab143877": {
          "model_module": "@jupyter-widgets/base",
          "model_name": "LayoutModel",
          "model_module_version": "1.2.0",
          "state": {
            "_view_name": "LayoutView",
            "grid_template_rows": null,
            "right": null,
            "justify_content": null,
            "_view_module": "@jupyter-widgets/base",
            "overflow": null,
            "_model_module_version": "1.2.0",
            "_view_count": null,
            "flex_flow": null,
            "width": null,
            "min_width": null,
            "border": null,
            "align_items": null,
            "bottom": null,
            "_model_module": "@jupyter-widgets/base",
            "top": null,
            "grid_column": null,
            "overflow_y": null,
            "overflow_x": null,
            "grid_auto_flow": null,
            "grid_area": null,
            "grid_template_columns": null,
            "flex": null,
            "_model_name": "LayoutModel",
            "justify_items": null,
            "grid_row": null,
            "max_height": null,
            "align_content": null,
            "visibility": null,
            "align_self": null,
            "height": null,
            "min_height": null,
            "padding": null,
            "grid_auto_rows": null,
            "grid_gap": null,
            "max_width": null,
            "order": null,
            "_view_module_version": "1.2.0",
            "grid_template_areas": null,
            "object_position": null,
            "object_fit": null,
            "grid_auto_columns": null,
            "margin": null,
            "display": null,
            "left": null
          }
        },
        "c48251ef58fb4854be30c9f498d3219f": {
          "model_module": "@jupyter-widgets/controls",
          "model_name": "DescriptionStyleModel",
          "model_module_version": "1.5.0",
          "state": {
            "_view_name": "StyleView",
            "_model_name": "DescriptionStyleModel",
            "description_width": "",
            "_view_module": "@jupyter-widgets/base",
            "_model_module_version": "1.5.0",
            "_view_count": null,
            "_view_module_version": "1.2.0",
            "_model_module": "@jupyter-widgets/controls"
          }
        },
        "2be390a83a9e421492802120e1878c14": {
          "model_module": "@jupyter-widgets/base",
          "model_name": "LayoutModel",
          "model_module_version": "1.2.0",
          "state": {
            "_view_name": "LayoutView",
            "grid_template_rows": null,
            "right": null,
            "justify_content": null,
            "_view_module": "@jupyter-widgets/base",
            "overflow": null,
            "_model_module_version": "1.2.0",
            "_view_count": null,
            "flex_flow": null,
            "width": null,
            "min_width": null,
            "border": null,
            "align_items": null,
            "bottom": null,
            "_model_module": "@jupyter-widgets/base",
            "top": null,
            "grid_column": null,
            "overflow_y": null,
            "overflow_x": null,
            "grid_auto_flow": null,
            "grid_area": null,
            "grid_template_columns": null,
            "flex": null,
            "_model_name": "LayoutModel",
            "justify_items": null,
            "grid_row": null,
            "max_height": null,
            "align_content": null,
            "visibility": null,
            "align_self": null,
            "height": null,
            "min_height": null,
            "padding": null,
            "grid_auto_rows": null,
            "grid_gap": null,
            "max_width": null,
            "order": null,
            "_view_module_version": "1.2.0",
            "grid_template_areas": null,
            "object_position": null,
            "object_fit": null,
            "grid_auto_columns": null,
            "margin": null,
            "display": null,
            "left": null
          }
        },
        "1a97ca59a40f42dda624bc933e9e0052": {
          "model_module": "@jupyter-widgets/controls",
          "model_name": "HBoxModel",
          "model_module_version": "1.5.0",
          "state": {
            "_view_name": "HBoxView",
            "_dom_classes": [],
            "_model_name": "HBoxModel",
            "_view_module": "@jupyter-widgets/controls",
            "_model_module_version": "1.5.0",
            "_view_count": null,
            "_view_module_version": "1.5.0",
            "box_style": "",
            "layout": "IPY_MODEL_9ba5e3ae179a4a1986c425d5d831969c",
            "_model_module": "@jupyter-widgets/controls",
            "children": [
              "IPY_MODEL_90ae46a2e4224cba9d691e44cf9fb7b1",
              "IPY_MODEL_11b3bdcae2f54bcbbecca744ed09372f",
              "IPY_MODEL_58601429da1745c08f6cc799fb7a7627"
            ]
          }
        },
        "9ba5e3ae179a4a1986c425d5d831969c": {
          "model_module": "@jupyter-widgets/base",
          "model_name": "LayoutModel",
          "model_module_version": "1.2.0",
          "state": {
            "_view_name": "LayoutView",
            "grid_template_rows": null,
            "right": null,
            "justify_content": null,
            "_view_module": "@jupyter-widgets/base",
            "overflow": null,
            "_model_module_version": "1.2.0",
            "_view_count": null,
            "flex_flow": null,
            "width": null,
            "min_width": null,
            "border": null,
            "align_items": null,
            "bottom": null,
            "_model_module": "@jupyter-widgets/base",
            "top": null,
            "grid_column": null,
            "overflow_y": null,
            "overflow_x": null,
            "grid_auto_flow": null,
            "grid_area": null,
            "grid_template_columns": null,
            "flex": null,
            "_model_name": "LayoutModel",
            "justify_items": null,
            "grid_row": null,
            "max_height": null,
            "align_content": null,
            "visibility": null,
            "align_self": null,
            "height": null,
            "min_height": null,
            "padding": null,
            "grid_auto_rows": null,
            "grid_gap": null,
            "max_width": null,
            "order": null,
            "_view_module_version": "1.2.0",
            "grid_template_areas": null,
            "object_position": null,
            "object_fit": null,
            "grid_auto_columns": null,
            "margin": null,
            "display": null,
            "left": null
          }
        },
        "90ae46a2e4224cba9d691e44cf9fb7b1": {
          "model_module": "@jupyter-widgets/controls",
          "model_name": "HTMLModel",
          "model_module_version": "1.5.0",
          "state": {
            "_view_name": "HTMLView",
            "style": "IPY_MODEL_f0e29cdd8222417590f5312697f715b1",
            "_dom_classes": [],
            "description": "",
            "_model_name": "HTMLModel",
            "placeholder": "​",
            "_view_module": "@jupyter-widgets/controls",
            "_model_module_version": "1.5.0",
            "value": "Train mae: 0.7403: 100%",
            "_view_count": null,
            "_view_module_version": "1.5.0",
            "description_tooltip": null,
            "_model_module": "@jupyter-widgets/controls",
            "layout": "IPY_MODEL_40929170bce24e5db1897b61ee28d9bd"
          }
        },
        "11b3bdcae2f54bcbbecca744ed09372f": {
          "model_module": "@jupyter-widgets/controls",
          "model_name": "FloatProgressModel",
          "model_module_version": "1.5.0",
          "state": {
            "_view_name": "ProgressView",
            "style": "IPY_MODEL_49f0bde0e63849788685cec95d9f5526",
            "_dom_classes": [],
            "description": "",
            "_model_name": "FloatProgressModel",
            "bar_style": "success",
            "max": 18749,
            "_view_module": "@jupyter-widgets/controls",
            "_model_module_version": "1.5.0",
            "value": 18749,
            "_view_count": null,
            "_view_module_version": "1.5.0",
            "orientation": "horizontal",
            "min": 0,
            "description_tooltip": null,
            "_model_module": "@jupyter-widgets/controls",
            "layout": "IPY_MODEL_692b117b31b04100acd9926cd20a6b95"
          }
        },
        "58601429da1745c08f6cc799fb7a7627": {
          "model_module": "@jupyter-widgets/controls",
          "model_name": "HTMLModel",
          "model_module_version": "1.5.0",
          "state": {
            "_view_name": "HTMLView",
            "style": "IPY_MODEL_7ad34434851c4796a7fa949b42aefeed",
            "_dom_classes": [],
            "description": "",
            "_model_name": "HTMLModel",
            "placeholder": "​",
            "_view_module": "@jupyter-widgets/controls",
            "_model_module_version": "1.5.0",
            "value": " 18749/18749 [23:08&lt;00:00, 13.40it/s]",
            "_view_count": null,
            "_view_module_version": "1.5.0",
            "description_tooltip": null,
            "_model_module": "@jupyter-widgets/controls",
            "layout": "IPY_MODEL_624b7f5b042c4895954ae88293690c8f"
          }
        },
        "f0e29cdd8222417590f5312697f715b1": {
          "model_module": "@jupyter-widgets/controls",
          "model_name": "DescriptionStyleModel",
          "model_module_version": "1.5.0",
          "state": {
            "_view_name": "StyleView",
            "_model_name": "DescriptionStyleModel",
            "description_width": "",
            "_view_module": "@jupyter-widgets/base",
            "_model_module_version": "1.5.0",
            "_view_count": null,
            "_view_module_version": "1.2.0",
            "_model_module": "@jupyter-widgets/controls"
          }
        },
        "40929170bce24e5db1897b61ee28d9bd": {
          "model_module": "@jupyter-widgets/base",
          "model_name": "LayoutModel",
          "model_module_version": "1.2.0",
          "state": {
            "_view_name": "LayoutView",
            "grid_template_rows": null,
            "right": null,
            "justify_content": null,
            "_view_module": "@jupyter-widgets/base",
            "overflow": null,
            "_model_module_version": "1.2.0",
            "_view_count": null,
            "flex_flow": null,
            "width": null,
            "min_width": null,
            "border": null,
            "align_items": null,
            "bottom": null,
            "_model_module": "@jupyter-widgets/base",
            "top": null,
            "grid_column": null,
            "overflow_y": null,
            "overflow_x": null,
            "grid_auto_flow": null,
            "grid_area": null,
            "grid_template_columns": null,
            "flex": null,
            "_model_name": "LayoutModel",
            "justify_items": null,
            "grid_row": null,
            "max_height": null,
            "align_content": null,
            "visibility": null,
            "align_self": null,
            "height": null,
            "min_height": null,
            "padding": null,
            "grid_auto_rows": null,
            "grid_gap": null,
            "max_width": null,
            "order": null,
            "_view_module_version": "1.2.0",
            "grid_template_areas": null,
            "object_position": null,
            "object_fit": null,
            "grid_auto_columns": null,
            "margin": null,
            "display": null,
            "left": null
          }
        },
        "49f0bde0e63849788685cec95d9f5526": {
          "model_module": "@jupyter-widgets/controls",
          "model_name": "ProgressStyleModel",
          "model_module_version": "1.5.0",
          "state": {
            "_view_name": "StyleView",
            "_model_name": "ProgressStyleModel",
            "description_width": "",
            "_view_module": "@jupyter-widgets/base",
            "_model_module_version": "1.5.0",
            "_view_count": null,
            "_view_module_version": "1.2.0",
            "bar_color": null,
            "_model_module": "@jupyter-widgets/controls"
          }
        },
        "692b117b31b04100acd9926cd20a6b95": {
          "model_module": "@jupyter-widgets/base",
          "model_name": "LayoutModel",
          "model_module_version": "1.2.0",
          "state": {
            "_view_name": "LayoutView",
            "grid_template_rows": null,
            "right": null,
            "justify_content": null,
            "_view_module": "@jupyter-widgets/base",
            "overflow": null,
            "_model_module_version": "1.2.0",
            "_view_count": null,
            "flex_flow": null,
            "width": null,
            "min_width": null,
            "border": null,
            "align_items": null,
            "bottom": null,
            "_model_module": "@jupyter-widgets/base",
            "top": null,
            "grid_column": null,
            "overflow_y": null,
            "overflow_x": null,
            "grid_auto_flow": null,
            "grid_area": null,
            "grid_template_columns": null,
            "flex": null,
            "_model_name": "LayoutModel",
            "justify_items": null,
            "grid_row": null,
            "max_height": null,
            "align_content": null,
            "visibility": null,
            "align_self": null,
            "height": null,
            "min_height": null,
            "padding": null,
            "grid_auto_rows": null,
            "grid_gap": null,
            "max_width": null,
            "order": null,
            "_view_module_version": "1.2.0",
            "grid_template_areas": null,
            "object_position": null,
            "object_fit": null,
            "grid_auto_columns": null,
            "margin": null,
            "display": null,
            "left": null
          }
        },
        "7ad34434851c4796a7fa949b42aefeed": {
          "model_module": "@jupyter-widgets/controls",
          "model_name": "DescriptionStyleModel",
          "model_module_version": "1.5.0",
          "state": {
            "_view_name": "StyleView",
            "_model_name": "DescriptionStyleModel",
            "description_width": "",
            "_view_module": "@jupyter-widgets/base",
            "_model_module_version": "1.5.0",
            "_view_count": null,
            "_view_module_version": "1.2.0",
            "_model_module": "@jupyter-widgets/controls"
          }
        },
        "624b7f5b042c4895954ae88293690c8f": {
          "model_module": "@jupyter-widgets/base",
          "model_name": "LayoutModel",
          "model_module_version": "1.2.0",
          "state": {
            "_view_name": "LayoutView",
            "grid_template_rows": null,
            "right": null,
            "justify_content": null,
            "_view_module": "@jupyter-widgets/base",
            "overflow": null,
            "_model_module_version": "1.2.0",
            "_view_count": null,
            "flex_flow": null,
            "width": null,
            "min_width": null,
            "border": null,
            "align_items": null,
            "bottom": null,
            "_model_module": "@jupyter-widgets/base",
            "top": null,
            "grid_column": null,
            "overflow_y": null,
            "overflow_x": null,
            "grid_auto_flow": null,
            "grid_area": null,
            "grid_template_columns": null,
            "flex": null,
            "_model_name": "LayoutModel",
            "justify_items": null,
            "grid_row": null,
            "max_height": null,
            "align_content": null,
            "visibility": null,
            "align_self": null,
            "height": null,
            "min_height": null,
            "padding": null,
            "grid_auto_rows": null,
            "grid_gap": null,
            "max_width": null,
            "order": null,
            "_view_module_version": "1.2.0",
            "grid_template_areas": null,
            "object_position": null,
            "object_fit": null,
            "grid_auto_columns": null,
            "margin": null,
            "display": null,
            "left": null
          }
        }
      }
    }
  },
  "cells": [
    {
      "cell_type": "markdown",
      "metadata": {
        "id": "OCfOAvvpXHaH"
      },
      "source": [
        "# Домашнее задание 3. \n",
        "\n",
        "## Предсказание пользовательской оценки отеля по тексту отзыва.\n",
        "\n",
        "В данном домашнем задании вам будет обучиться на данных с кэггла и заслать в [соревнование](https://www.kaggle.com/t/325e82797935464aa07c254b3cc3d8ad) предикт. Чтобы контест отображался, откройте и примите условия участия в контесте через ссылку-приглашение в телеграм-канале. По той же ссылке можете скачать данные."
      ]
    },
    {
      "cell_type": "markdown",
      "metadata": {
        "id": "jz-JIchOXHaK"
      },
      "source": [
        "Мы собрали для вас отзывы по 1500 отелям из совершенно разных уголков мира. Что это за отели - секрет. Вам дан текст отзыва и пользовательская оценка отеля. Ваша задача - научиться предсказывать оценку отеля по отзыву."
      ]
    },
    {
      "cell_type": "markdown",
      "metadata": {
        "id": "7L3cOQLiXHaK"
      },
      "source": [
        "Главная метрика - Mean Absolute Error (MAE). Во всех частях домашней работы вам нужно получить значение MAE не превышающее 0.92 на публичном лидерборде. В противном случае мы будем вынуждены не засчитать задание :( "
      ]
    },
    {
      "cell_type": "markdown",
      "metadata": {
        "id": "qn7rLZ12XHaM"
      },
      "source": [
        "#### Про данные:\n",
        "Каждое ревью состоит из двух текстов: positive и negative - плюсы и минусы отеля. В столбце score находится оценка пользователя - вещественное число 0 до 10. Вам нужно извлечь признаки из этих текстов и предсказать по ним оценку."
      ]
    },
    {
      "cell_type": "markdown",
      "metadata": {
        "id": "N7N2muuMaGgF"
      },
      "source": [
        "Для локального тестирования используйте предоставленное разбиение на трейн и тест."
      ]
    },
    {
      "cell_type": "markdown",
      "metadata": {
        "id": "zdKbQvpcXHaM"
      },
      "source": [
        "Good luck & have fun! 💪"
      ]
    },
    {
      "cell_type": "markdown",
      "metadata": {
        "id": "T6Ej16t1XHaM"
      },
      "source": [
        "#### Использовать любые данные для обучения кроме предоставленных организаторами строго запрещено. В последней части можно использовать предобученные модели из библиотеки `transformers`."
      ]
    },
    {
      "cell_type": "code",
      "source": [
        "import pandas as pd\n",
        "import numpy as np\n",
        "from google.colab import drive\n",
        "from sklearn.feature_extraction.text import TfidfVectorizer\n",
        "from sklearn.linear_model import LinearRegression\n",
        "from sklearn.model_selection import train_test_split\n",
        "from sklearn.metrics import mean_absolute_error\n",
        "import matplotlib.pyplot as plt\n",
        "\n",
        "from sklearn.feature_extraction.text import CountVectorizer\n",
        "from sklearn.feature_extraction.text import TfidfTransformer\n",
        "\n",
        "import string\n",
        "import nltk\n",
        "from nltk.tokenize import word_tokenize\n",
        "from nltk.corpus import stopwords\n",
        "from nltk.stem import WordNetLemmatizer\n",
        "import gensim"
      ],
      "metadata": {
        "id": "_Uj2oKZoedTM"
      },
      "execution_count": 1,
      "outputs": []
    },
    {
      "cell_type": "code",
      "source": [
        "nltk.download('wordnet')"
      ],
      "metadata": {
        "colab": {
          "base_uri": "https://localhost:8080/"
        },
        "id": "Qh1_esEDml-t",
        "outputId": "370ef78a-9675-4212-e79f-58466a1a1e6e"
      },
      "execution_count": 2,
      "outputs": [
        {
          "output_type": "stream",
          "name": "stdout",
          "text": [
            "[nltk_data] Downloading package wordnet to /root/nltk_data...\n",
            "[nltk_data]   Unzipping corpora/wordnet.zip.\n"
          ]
        },
        {
          "output_type": "execute_result",
          "data": {
            "text/plain": [
              "True"
            ]
          },
          "metadata": {},
          "execution_count": 2
        }
      ]
    },
    {
      "cell_type": "code",
      "metadata": {
        "id": "U4Gc4Go5XHaN",
        "colab": {
          "base_uri": "https://localhost:8080/"
        },
        "outputId": "12ced07c-61f8-4a64-f811-afd068730fcd"
      },
      "source": [
        "drive.mount('/content/drive')"
      ],
      "execution_count": 3,
      "outputs": [
        {
          "output_type": "stream",
          "name": "stdout",
          "text": [
            "Mounted at /content/drive\n"
          ]
        }
      ]
    },
    {
      "cell_type": "code",
      "source": [
        "PATH_TO_TRAIN_DATA = 'drive/MyDrive/train.csv'\n",
        "PATH_TO_TEST_DATA = 'drive/MyDrive/test.csv'"
      ],
      "metadata": {
        "id": "2-iacO7E4cdM"
      },
      "execution_count": 44,
      "outputs": []
    },
    {
      "cell_type": "code",
      "metadata": {
        "id": "6kJRM6ZUXHaO",
        "outputId": "3123957e-5420-4446-c579-304b4e5f515c",
        "colab": {
          "base_uri": "https://localhost:8080/",
          "height": 206
        }
      },
      "source": [
        "train = pd.read_csv(PATH_TO_TRAIN_DATA)\n",
        "train.head()"
      ],
      "execution_count": 122,
      "outputs": [
        {
          "output_type": "execute_result",
          "data": {
            "text/html": [
              "\n",
              "  <div id=\"df-b9728dec-4308-460b-b92a-590bd687f537\">\n",
              "    <div class=\"colab-df-container\">\n",
              "      <div>\n",
              "<style scoped>\n",
              "    .dataframe tbody tr th:only-of-type {\n",
              "        vertical-align: middle;\n",
              "    }\n",
              "\n",
              "    .dataframe tbody tr th {\n",
              "        vertical-align: top;\n",
              "    }\n",
              "\n",
              "    .dataframe thead th {\n",
              "        text-align: right;\n",
              "    }\n",
              "</style>\n",
              "<table border=\"1\" class=\"dataframe\">\n",
              "  <thead>\n",
              "    <tr style=\"text-align: right;\">\n",
              "      <th></th>\n",
              "      <th>review_id</th>\n",
              "      <th>negative</th>\n",
              "      <th>positive</th>\n",
              "      <th>score</th>\n",
              "    </tr>\n",
              "  </thead>\n",
              "  <tbody>\n",
              "    <tr>\n",
              "      <th>0</th>\n",
              "      <td>00003c6036f30f590c0ac435efb8739b</td>\n",
              "      <td>There were issues with the wifi connection</td>\n",
              "      <td>No Positive</td>\n",
              "      <td>7.1</td>\n",
              "    </tr>\n",
              "    <tr>\n",
              "      <th>1</th>\n",
              "      <td>00004d18f186bf2489590dc415876f73</td>\n",
              "      <td>TV not working</td>\n",
              "      <td>No Positive</td>\n",
              "      <td>7.5</td>\n",
              "    </tr>\n",
              "    <tr>\n",
              "      <th>2</th>\n",
              "      <td>0000cf900cbb8667fad33a717e9b1cf4</td>\n",
              "      <td>More pillows</td>\n",
              "      <td>Beautiful room Great location Lovely staff</td>\n",
              "      <td>10.0</td>\n",
              "    </tr>\n",
              "    <tr>\n",
              "      <th>3</th>\n",
              "      <td>0000df16edf19e7ad9dd8c5cd6f6925e</td>\n",
              "      <td>Very business</td>\n",
              "      <td>Location</td>\n",
              "      <td>5.4</td>\n",
              "    </tr>\n",
              "    <tr>\n",
              "      <th>4</th>\n",
              "      <td>00025e1aa3ac32edb496db49e76bbd00</td>\n",
              "      <td>Rooms could do with a bit of a refurbishment ...</td>\n",
              "      <td>Nice breakfast handy for Victoria train stati...</td>\n",
              "      <td>6.7</td>\n",
              "    </tr>\n",
              "  </tbody>\n",
              "</table>\n",
              "</div>\n",
              "      <button class=\"colab-df-convert\" onclick=\"convertToInteractive('df-b9728dec-4308-460b-b92a-590bd687f537')\"\n",
              "              title=\"Convert this dataframe to an interactive table.\"\n",
              "              style=\"display:none;\">\n",
              "        \n",
              "  <svg xmlns=\"http://www.w3.org/2000/svg\" height=\"24px\"viewBox=\"0 0 24 24\"\n",
              "       width=\"24px\">\n",
              "    <path d=\"M0 0h24v24H0V0z\" fill=\"none\"/>\n",
              "    <path d=\"M18.56 5.44l.94 2.06.94-2.06 2.06-.94-2.06-.94-.94-2.06-.94 2.06-2.06.94zm-11 1L8.5 8.5l.94-2.06 2.06-.94-2.06-.94L8.5 2.5l-.94 2.06-2.06.94zm10 10l.94 2.06.94-2.06 2.06-.94-2.06-.94-.94-2.06-.94 2.06-2.06.94z\"/><path d=\"M17.41 7.96l-1.37-1.37c-.4-.4-.92-.59-1.43-.59-.52 0-1.04.2-1.43.59L10.3 9.45l-7.72 7.72c-.78.78-.78 2.05 0 2.83L4 21.41c.39.39.9.59 1.41.59.51 0 1.02-.2 1.41-.59l7.78-7.78 2.81-2.81c.8-.78.8-2.07 0-2.86zM5.41 20L4 18.59l7.72-7.72 1.47 1.35L5.41 20z\"/>\n",
              "  </svg>\n",
              "      </button>\n",
              "      \n",
              "  <style>\n",
              "    .colab-df-container {\n",
              "      display:flex;\n",
              "      flex-wrap:wrap;\n",
              "      gap: 12px;\n",
              "    }\n",
              "\n",
              "    .colab-df-convert {\n",
              "      background-color: #E8F0FE;\n",
              "      border: none;\n",
              "      border-radius: 50%;\n",
              "      cursor: pointer;\n",
              "      display: none;\n",
              "      fill: #1967D2;\n",
              "      height: 32px;\n",
              "      padding: 0 0 0 0;\n",
              "      width: 32px;\n",
              "    }\n",
              "\n",
              "    .colab-df-convert:hover {\n",
              "      background-color: #E2EBFA;\n",
              "      box-shadow: 0px 1px 2px rgba(60, 64, 67, 0.3), 0px 1px 3px 1px rgba(60, 64, 67, 0.15);\n",
              "      fill: #174EA6;\n",
              "    }\n",
              "\n",
              "    [theme=dark] .colab-df-convert {\n",
              "      background-color: #3B4455;\n",
              "      fill: #D2E3FC;\n",
              "    }\n",
              "\n",
              "    [theme=dark] .colab-df-convert:hover {\n",
              "      background-color: #434B5C;\n",
              "      box-shadow: 0px 1px 3px 1px rgba(0, 0, 0, 0.15);\n",
              "      filter: drop-shadow(0px 1px 2px rgba(0, 0, 0, 0.3));\n",
              "      fill: #FFFFFF;\n",
              "    }\n",
              "  </style>\n",
              "\n",
              "      <script>\n",
              "        const buttonEl =\n",
              "          document.querySelector('#df-b9728dec-4308-460b-b92a-590bd687f537 button.colab-df-convert');\n",
              "        buttonEl.style.display =\n",
              "          google.colab.kernel.accessAllowed ? 'block' : 'none';\n",
              "\n",
              "        async function convertToInteractive(key) {\n",
              "          const element = document.querySelector('#df-b9728dec-4308-460b-b92a-590bd687f537');\n",
              "          const dataTable =\n",
              "            await google.colab.kernel.invokeFunction('convertToInteractive',\n",
              "                                                     [key], {});\n",
              "          if (!dataTable) return;\n",
              "\n",
              "          const docLinkHtml = 'Like what you see? Visit the ' +\n",
              "            '<a target=\"_blank\" href=https://colab.research.google.com/notebooks/data_table.ipynb>data table notebook</a>'\n",
              "            + ' to learn more about interactive tables.';\n",
              "          element.innerHTML = '';\n",
              "          dataTable['output_type'] = 'display_data';\n",
              "          await google.colab.output.renderOutput(dataTable, element);\n",
              "          const docLink = document.createElement('div');\n",
              "          docLink.innerHTML = docLinkHtml;\n",
              "          element.appendChild(docLink);\n",
              "        }\n",
              "      </script>\n",
              "    </div>\n",
              "  </div>\n",
              "  "
            ],
            "text/plain": [
              "                          review_id  ... score\n",
              "0  00003c6036f30f590c0ac435efb8739b  ...   7.1\n",
              "1  00004d18f186bf2489590dc415876f73  ...   7.5\n",
              "2  0000cf900cbb8667fad33a717e9b1cf4  ...  10.0\n",
              "3  0000df16edf19e7ad9dd8c5cd6f6925e  ...   5.4\n",
              "4  00025e1aa3ac32edb496db49e76bbd00  ...   6.7\n",
              "\n",
              "[5 rows x 4 columns]"
            ]
          },
          "metadata": {},
          "execution_count": 122
        }
      ]
    },
    {
      "cell_type": "markdown",
      "metadata": {
        "id": "bpLk8dXBXHaP"
      },
      "source": [
        "Предобработка текста может сказываться на качестве вашей модели.\n",
        "Сделаем небольшой препроцессинг текстов: удалим знаки препинания, приведем все слова к нижнему регистру. \n",
        "Однако можно не ограничиваться этим набором преобразований. Подумайте, что еще можно сделать с текстами, чтобы помочь будущим моделям? Добавьте преобразования, которые могли бы помочь по вашему мнению."
      ]
    },
    {
      "cell_type": "markdown",
      "metadata": {
        "id": "SfkhII5AXHaP"
      },
      "source": [
        "Также мы добавили разбиение текстов на токены. Теперь каждая строка-ревью стала массивом токенов."
      ]
    },
    {
      "cell_type": "code",
      "metadata": {
        "id": "tv-gbEKGXHaQ",
        "colab": {
          "base_uri": "https://localhost:8080/"
        },
        "outputId": "cb598e7b-5178-482f-a5bf-2f731772371f"
      },
      "source": [
        "nltk.download('punkt')\n",
        "nltk.download(\"stopwords\")\n",
        "\n",
        "lemmatizer = nltk.stem.WordNetLemmatizer()\n",
        "dict_text = set()\n",
        "\n",
        "def process_text(text, label):\n",
        "    global dict_text\n",
        "    text = text.replace('No ', 'No')\n",
        "    text = text.replace('no ', 'no')\n",
        "    text = text.replace('Not ', 'not')\n",
        "    text = text.replace('not ', 'not')\n",
        "    words = [lemmatizer.lemmatize(word) + label for word in \n",
        "             word_tokenize(text.lower()) if word not in string.punctuation]\n",
        "    # dict_text = dict_text.union(set(words))  # узнать длину словаря\n",
        "    return words"
      ],
      "execution_count": 6,
      "outputs": [
        {
          "output_type": "stream",
          "name": "stdout",
          "text": [
            "[nltk_data] Downloading package punkt to /root/nltk_data...\n",
            "[nltk_data]   Unzipping tokenizers/punkt.zip.\n",
            "[nltk_data] Downloading package stopwords to /root/nltk_data...\n",
            "[nltk_data]   Unzipping corpora/stopwords.zip.\n"
          ]
        }
      ]
    },
    {
      "cell_type": "code",
      "metadata": {
        "id": "-X1bXhROXHaQ"
      },
      "source": [
        "# т.к. далее склеиваем negative и positive, навесим метки на каждое слово в neg/pos, было оно neg/pos\n",
        "train['negative'] = train['negative'].apply(process_text, label='neg')\n",
        "train['positive'] = train['positive'].apply(process_text, label='pos')\n",
        "\n",
        "train['full'] = train['negative'] + train['positive']\n",
        "train = train[train['full'].map(len) != 0]"
      ],
      "execution_count": 123,
      "outputs": []
    },
    {
      "cell_type": "code",
      "source": [
        "len(dict_text)  # длина словаря"
      ],
      "metadata": {
        "colab": {
          "base_uri": "https://localhost:8080/"
        },
        "id": "cbctlDSFRFvK",
        "outputId": "52f3d1aa-cd7c-4f56-e5ba-6122a111d2d9"
      },
      "execution_count": null,
      "outputs": [
        {
          "output_type": "execute_result",
          "data": {
            "text/plain": [
              "34728"
            ]
          },
          "metadata": {},
          "execution_count": 34
        }
      ]
    },
    {
      "cell_type": "markdown",
      "metadata": {
        "id": "3gu1EIc3XHaR"
      },
      "source": [
        "### Часть 1. 1 балл"
      ]
    },
    {
      "cell_type": "markdown",
      "metadata": {
        "id": "DM7ZD9gyXHaR"
      },
      "source": [
        "Обучите логистическую регрессию на TF-IDF векторах текстов."
      ]
    },
    {
      "cell_type": "code",
      "source": [
        "tfidf = TfidfVectorizer(preprocessor=' '.join, max_features = 5000) # считать частоту слов не стала, попробовала методом тыка подобрать удачное число\n",
        "\n",
        "X = train['full']\n",
        "y = train['score']\n",
        "X_train, X_test, y_train, y_test = train_test_split(X, y)\n",
        "\n",
        "X_train_vectorized = tfidf.fit_transform(X_train)"
      ],
      "metadata": {
        "id": "W4fkQSDLXRot"
      },
      "execution_count": 8,
      "outputs": []
    },
    {
      "cell_type": "code",
      "source": [
        "model = LinearRegression().fit(X_train_vectorized, y_train)\n",
        "mean_absolute_error(y_test, model.predict(tfidf.transform(X_test)))"
      ],
      "metadata": {
        "colab": {
          "base_uri": "https://localhost:8080/"
        },
        "id": "7K79ySYxnVU1",
        "outputId": "6d75b91c-9c4a-48a0-b2a4-d031588108ce"
      },
      "execution_count": null,
      "outputs": [
        {
          "output_type": "execute_result",
          "data": {
            "text/plain": [
              "0.8327106658649905"
            ]
          },
          "metadata": {},
          "execution_count": 162
        }
      ]
    },
    {
      "cell_type": "markdown",
      "metadata": {
        "id": "0CufFcfHXhuo"
      },
      "source": [
        "Предскажите этой моделью тестовые данные из [соревнования](https://www.kaggle.com/t/325e82797935464aa07c254b3cc3d8ad) и сделайте сабмит. Какой у вас получился скор? Прикрепите скриншот из кэггла."
      ]
    },
    {
      "cell_type": "code",
      "source": [
        "# позже поняла, что лучше было обучить модель на всем трейне, а потом сделать\n",
        "# предсказание на тесте, но не хочется сейчас запускать все заново \n",
        "\n",
        "test = pd.read_csv(PATH_TO_TEST_DATA)\n",
        "\n",
        "test['negative'] = test['negative'].apply(process_text, label='neg')\n",
        "test['positive'] = test['positive'].apply(process_text, label='pos')\n",
        "test['full'] = test['negative'] + test['positive']\n",
        "test = test[test['full'].map(len) != 0]"
      ],
      "metadata": {
        "id": "34ClAwPss_MU"
      },
      "execution_count": 124,
      "outputs": []
    },
    {
      "cell_type": "code",
      "source": [
        "result = model.predict(tfidf.transform(test['full']))"
      ],
      "metadata": {
        "id": "64xHVwUhh-qv"
      },
      "execution_count": null,
      "outputs": []
    },
    {
      "cell_type": "code",
      "source": [
        "result = pd.DataFrame(data=result, columns=['score']).set_index(test.review_id)"
      ],
      "metadata": {
        "id": "7CLu2igp1tIa"
      },
      "execution_count": null,
      "outputs": []
    },
    {
      "cell_type": "code",
      "source": [
        "result.to_csv('result.csv')\n",
        "!cp result.csv \"drive/My Drive/\""
      ],
      "metadata": {
        "id": "pag2v8YB1dXj"
      },
      "execution_count": null,
      "outputs": []
    },
    {
      "cell_type": "markdown",
      "source": [
        "![image.png](data:image/png;base64,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)"
      ],
      "metadata": {
        "id": "1Rc8y1ep_BWc"
      }
    },
    {
      "cell_type": "markdown",
      "metadata": {
        "id": "E-4Zve40XHaS"
      },
      "source": [
        "### Часть 2. 2 балла"
      ]
    },
    {
      "cell_type": "markdown",
      "metadata": {
        "id": "cYFL-5yFXHaS"
      },
      "source": [
        "Обучите логистическую регрессию на усредненных Word2Vec векторах. "
      ]
    },
    {
      "cell_type": "code",
      "source": [
        "def vectorize(emb_model, words):\n",
        "  # получаем вектор слова для тех слов, которые есть в словаре (у нас это все, т.к. так задали словарь)\n",
        "  vectors = [emb_model.wv.get_vector(word) for word in words if word in emb_model.wv.vocab]\n",
        "\n",
        "  return np.mean(vectors, axis=0) # усредняем"
      ],
      "metadata": {
        "id": "IQtvmzE1Xyoe"
      },
      "execution_count": 11,
      "outputs": []
    },
    {
      "cell_type": "code",
      "source": [
        "def mae_without_idf(emb_model):\n",
        "  train['vector'] = train['full'].apply(lambda words: vectorize(emb_model, words))\n",
        "  X = train['vector'].values\n",
        "  y = train['score'].values\n",
        "  X_train, X_test, y_train, y_test = train_test_split(X, y)\n",
        "\n",
        "  X_train = list(X_train)\n",
        "  X_test = list(X_test)\n",
        "\n",
        "  model = LinearRegression().fit(X_train, y_train)\n",
        "\n",
        "  mae = mean_absolute_error(y_test, model.predict(X_test))\n",
        "  print('MAE без весов:', mae)\n",
        "  return mae"
      ],
      "metadata": {
        "id": "3MkjQ3tjXzL_"
      },
      "execution_count": null,
      "outputs": []
    },
    {
      "cell_type": "code",
      "source": [
        "embedding_size = 120\n",
        "w2vmodel = gensim.models.Word2Vec(train['full'], size=embedding_size, min_count=1)\n",
        "mae_without_idf(w2vmodel)"
      ],
      "metadata": {
        "colab": {
          "base_uri": "https://localhost:8080/"
        },
        "id": "0cQeN_LCX0mh",
        "outputId": "2da2b4ef-a9c7-4bbe-d8c4-6702f5d7676c"
      },
      "execution_count": null,
      "outputs": [
        {
          "output_type": "stream",
          "name": "stdout",
          "text": [
            "MAE without idf: 0.9176740047888657\n"
          ]
        },
        {
          "output_type": "execute_result",
          "data": {
            "text/plain": [
              "0.9176740047888657"
            ]
          },
          "metadata": {},
          "execution_count": 218
        }
      ]
    },
    {
      "cell_type": "markdown",
      "metadata": {
        "id": "KWrIciGxXHaS"
      },
      "source": [
        "Усредняя w2v вектора, мы предполагаем, что каждое слово имеет равноценный вклад в смысл предложения, однако это может быть не совсем так. Теперь попробуйте воспользоваться другой концепцией и перевзвесить слова при получении итогового эмбеддинга текста. В качестве весов используйте IDF (Inverse document frequency)"
      ]
    },
    {
      "cell_type": "code",
      "metadata": {
        "id": "mQSuuLP9XHaS",
        "colab": {
          "base_uri": "https://localhost:8080/"
        },
        "outputId": "b124c421-0ac3-4dde-f978-7eddf6dce32f"
      },
      "source": [
        "def calc_idf(texts):\n",
        "  cv = CountVectorizer() \n",
        "  word_count_vector = cv.fit_transform(texts)\n",
        "\n",
        "  tfidf_transformer = TfidfTransformer(smooth_idf=True, use_idf=True) \n",
        "  tfidf_transformer.fit(word_count_vector)\n",
        "\n",
        "  words = cv.get_feature_names()  # т.к. в cv хранится токен -- число повторений\n",
        "  idf = tfidf_transformer.idf_\n",
        "\n",
        "  return dict(zip(words, idf))  # словарь с ключами из words и значениями из idf\n",
        "\n",
        "\n",
        "concated = []  # тут все записи хранятся\n",
        "for value in train['full']:\n",
        "  concated += value\n",
        "idf_vocab = calc_idf(concated)"
      ],
      "execution_count": null,
      "outputs": [
        {
          "output_type": "stream",
          "name": "stderr",
          "text": [
            "/usr/local/lib/python3.7/dist-packages/sklearn/utils/deprecation.py:87: FutureWarning: Function get_feature_names is deprecated; get_feature_names is deprecated in 1.0 and will be removed in 1.2. Please use get_feature_names_out instead.\n",
            "  warnings.warn(msg, category=FutureWarning)\n"
          ]
        }
      ]
    },
    {
      "cell_type": "code",
      "source": [
        "def vectorize_with_idf(emb_model, words):\n",
        "  # если слово в словаре модели и для него есть, то берем вектор слова и умножаем на его вес\n",
        "  vectors = np.array(list(emb_model.wv.get_vector(word) * idf_vocab[word] for word in words \n",
        "                          if word in emb_model.wv.vocab and word in idf_vocab))\n",
        "  if len(vectors) == 0:\n",
        "    return np.array([[0] for _ in range(embedding_size)])\n",
        "  return np.array(np.mean(vectors, axis=0))"
      ],
      "metadata": {
        "id": "xmhmAvLIp8qf"
      },
      "execution_count": null,
      "outputs": []
    },
    {
      "cell_type": "code",
      "source": [
        "from sklearn.model_selection import train_test_split\n",
        "from sklearn.metrics import mean_absolute_error\n",
        "\n",
        "def mae_with_idf(emb_model):\n",
        "  train['vector_idf'] = train['full'].apply(lambda words: vectorize_with_idf(emb_model, words))\n",
        "\n",
        "  X = train['vector_idf']\n",
        "  y = train['score']\n",
        "  X_train, X_test, y_train, y_test = train_test_split(X, y)\n",
        "\n",
        "  X_train = list(X_train)\n",
        "  X_test = list(X_test)\n",
        "\n",
        "  model = LinearRegression().fit(X_train, y_train)\n",
        "  mae = mean_absolute_error(y_test, model.predict(X_test))\n",
        "\n",
        "  print('MAE с весами:', mae)\n",
        "  return mae"
      ],
      "metadata": {
        "id": "Akk9sbMG6Tlx"
      },
      "execution_count": null,
      "outputs": []
    },
    {
      "cell_type": "code",
      "source": [
        "mae_with_idf(w2vmodel)"
      ],
      "metadata": {
        "colab": {
          "base_uri": "https://localhost:8080/"
        },
        "id": "TKau-8R86axx",
        "outputId": "da6bd2f4-f85e-43a1-c1da-d6fcfbb56857"
      },
      "execution_count": null,
      "outputs": [
        {
          "output_type": "stream",
          "name": "stdout",
          "text": [
            "MAE with idf: \n",
            "0.9137205887481714\n"
          ]
        },
        {
          "output_type": "execute_result",
          "data": {
            "text/plain": [
              "0.9137205887481714"
            ]
          },
          "metadata": {},
          "execution_count": 252
        }
      ]
    },
    {
      "cell_type": "markdown",
      "metadata": {
        "id": "4s-6HQo0XHaT"
      },
      "source": [
        "Проведите эксперименты с размерностью эмбеддинга. Для каждого из двух методов постройте график зависимости качества модели от размерности эмбеддинга. "
      ]
    },
    {
      "cell_type": "code",
      "source": [
        "mae_result = []\n",
        "mae_with_idf_result = []\n",
        "\n",
        "for embedding_size in range(50, 401, 50):\n",
        "  w2vmodel = gensim.models.Word2Vec(train['full'], size=embedding_size, min_count=1)\n",
        "  print('embedding_size:', embedding_size)\n",
        "  \n",
        "  mae_result.append(mae_without_idf(w2vmodel))\n",
        "  mae_with_idf_result.append(mae_with_idf(w2vmodel))"
      ],
      "metadata": {
        "colab": {
          "base_uri": "https://localhost:8080/"
        },
        "id": "ZYCmphIJ6ftD",
        "outputId": "de28779c-4ca6-421a-fca4-abdc6496b59c"
      },
      "execution_count": null,
      "outputs": [
        {
          "output_type": "stream",
          "name": "stdout",
          "text": [
            "embedding_size: 50\n",
            "MAE without idf: 0.9542869528005912\n",
            "MAE with idf: \n",
            "0.9536072895247351\n",
            "embedding_size: 100\n",
            "MAE without idf: 0.9313761032725855\n",
            "MAE with idf: \n",
            "0.9357031644241844\n",
            "embedding_size: 150\n",
            "MAE without idf: 0.9219704828213118\n",
            "MAE with idf: \n",
            "0.9200947166171101\n",
            "embedding_size: 200\n",
            "MAE without idf: 0.904669855550707\n",
            "MAE with idf: \n",
            "0.9074976551823151\n",
            "embedding_size: 250\n",
            "MAE without idf: 0.9039730164874928\n",
            "MAE with idf: \n",
            "0.9015356057338454\n",
            "embedding_size: 300\n",
            "MAE without idf: 0.9014183705318183\n",
            "MAE with idf: \n",
            "0.9012154606629517\n",
            "embedding_size: 350\n",
            "MAE without idf: 0.8922093691418251\n",
            "MAE with idf: \n",
            "0.8941999058613009\n",
            "embedding_size: 400\n",
            "MAE without idf: 0.8886137559760202\n",
            "MAE with idf: \n",
            "0.8910895277516422\n"
          ]
        }
      ]
    },
    {
      "cell_type": "code",
      "source": [
        "sizes = list(range(50, 401, 50))\n",
        "\n",
        "plt.title('MAE w2v для линейной регрессии в зависимости от embedding size')\n",
        "plt.plot(sizes, mae_with_idf_result, label = 'с весами')\n",
        "plt.plot(sizes, mae_result, label = 'без весов')\n",
        "plt.xlabel('embedding size')\n",
        "plt.ylabel('MAE')\n",
        "\n",
        "plt.legend()\n",
        "plt.show()"
      ],
      "metadata": {
        "colab": {
          "base_uri": "https://localhost:8080/",
          "height": 295
        },
        "id": "NQV-eIEc3wef",
        "outputId": "37094134-c798-4425-e1fe-39cb16735176"
      },
      "execution_count": null,
      "outputs": [
        {
          "output_type": "display_data",
          "data": {
            "image/png": "[encoded data removed]",
            "text/plain": [
              "<Figure size 432x288 with 1 Axes>"
            ]
          },
          "metadata": {
            "needs_background": "light"
          }
        }
      ]
    },
    {
      "cell_type": "markdown",
      "source": [
        "#### Сделайте выводы:\n",
        "\n",
        "С увеличением embedding size в обоих случаях ошибка падает, но уменьшение при обучении с весами более плавное. В целом качество похожее у обеих семейств моделей, тяжело сказать, какую модель лучше использовать. Но когда я не делала такую хорошую предобработку, как в итоге сделала, кривая для модели с весами лежала полностью под кривой для модели без весов. Возможно, из-за того, что я сделала хорошую предобработку, в данном случае просто обе модели стали работать хорошо."
      ],
      "metadata": {
        "id": "5kB0KFoW6kEu"
      }
    },
    {
      "cell_type": "markdown",
      "source": [
        "Теперь попробуйте обучить логистическую регрессию на любых других эмбеддингах размерности 300 и сравните качество с Word2Vec."
      ],
      "metadata": {
        "id": "zyeiu2Y25dCP"
      }
    },
    {
      "cell_type": "code",
      "source": [
        "embedding_size = 300\n",
        "fasttextmodel = gensim.models.FastText(train['full'], size=embedding_size, min_count=1)\n",
        "print('--- Fasttext ---')\n",
        "mae_without_idf(fasttextmodel)\n",
        "mae_with_idf(fasttextmodel)"
      ],
      "metadata": {
        "colab": {
          "base_uri": "https://localhost:8080/"
        },
        "id": "M6i6Kcdr5efU",
        "outputId": "600e70f2-7e08-4cfc-b3c3-e66472751ed3"
      },
      "execution_count": null,
      "outputs": [
        {
          "output_type": "stream",
          "name": "stdout",
          "text": [
            "Для fasttext\n",
            "MAE without idf: 0.9025510662340862\n",
            "MAE with idf: \n",
            "0.9096485175172387\n"
          ]
        },
        {
          "output_type": "execute_result",
          "data": {
            "text/plain": [
              "0.9096485175172387"
            ]
          },
          "metadata": {},
          "execution_count": 259
        }
      ]
    },
    {
      "cell_type": "markdown",
      "metadata": {
        "id": "f29vizrmXHaT"
      },
      "source": [
        "#### Выводы:\n",
        "Ошибка незначительно увеличилась (в третьем знаке после запятой). Но мы видели, как в нашем случае меняется расположение кривых ошибок с увеличением embedding size, поэтому построим еще и для других embedding_size (для наглядности построим график)."
      ]
    },
    {
      "cell_type": "code",
      "source": [
        "mae_result_fasttext = []\n",
        "mae_with_idf_result_fasttext = []\n",
        "\n",
        "for embedding_size in range(50, 401, 50):\n",
        "  fasttextmodel = gensim.models.FastText(train['full'], size=embedding_size, min_count=1)\n",
        "  print('embedding_size:', embedding_size)\n",
        "\n",
        "  mae_result_fasttext.append(mae_without_idf(fasttextmodel))\n",
        "  mae_with_idf_result_fasttext.append(mae_with_idf(fasttextmodel))\n",
        "\n",
        "sizes = list(range(50, 401, 50))\n",
        "plt.title('MAE w2v и fasttext для линейной регрессии в зависимости от embedding size')\n",
        "\n",
        "plt.plot(sizes, mae_with_idf_result, label='w2v с весами')\n",
        "plt.plot(sizes, mae_result, label = 'w2v без весов')\n",
        "plt.plot(sizes, mae_with_idf_result_fasttext, label='fasttext с весами')\n",
        "plt.plot(sizes, mae_result_fasttext, label = 'fasttext без весов')\n",
        "plt.legend()\n",
        "plt.show()"
      ],
      "metadata": {
        "colab": {
          "base_uri": "https://localhost:8080/",
          "height": 837
        },
        "id": "ocUL0zqJBXS4",
        "outputId": "1424f169-be09-4108-a47f-eb3e16f2b8f7"
      },
      "execution_count": null,
      "outputs": [
        {
          "output_type": "stream",
          "name": "stdout",
          "text": [
            "embedding_size: 50\n",
            "MAE without idf: 0.9534428076074766\n",
            "MAE with idf: \n",
            "0.9545082760303514\n",
            "embedding_size: 100\n",
            "MAE without idf: 0.9269172903261039\n",
            "MAE with idf: \n",
            "0.9271380398291492\n",
            "embedding_size: 150\n",
            "MAE without idf: 0.9231190964042523\n",
            "MAE with idf: \n",
            "0.915493151563526\n",
            "embedding_size: 200\n",
            "MAE without idf: 0.9010988997642486\n",
            "MAE with idf: \n",
            "0.9081382388291137\n",
            "embedding_size: 250\n",
            "MAE without idf: 0.906516383324553\n",
            "MAE with idf: \n",
            "0.9081493382339665\n",
            "embedding_size: 300\n",
            "MAE without idf: 0.9036883816127181\n",
            "MAE with idf: \n",
            "0.9103628244174566\n",
            "embedding_size: 350\n",
            "MAE without idf: 0.8969884611233753\n",
            "MAE with idf: \n",
            "0.8992241021313521\n",
            "embedding_size: 400\n",
            "MAE without idf: 0.8976264364791205\n",
            "MAE with idf: \n",
            "0.8936077932771851\n"
          ]
        },
        {
          "output_type": "display_data",
          "data": {
            "image/png": "[encoded data removed]",
            "text/plain": [
              "<Figure size 432x288 with 1 Axes>"
            ]
          },
          "metadata": {
            "needs_background": "light"
          }
        }
      ]
    },
    {
      "cell_type": "markdown",
      "source": [
        "fasttext с увеличением embedding size как-то непредсказуемо меняется, в отличие от w2v (хотя кажется, что fasttext с весами идет на убывание MAE, а про fasttext с весами неясно. Т.е. все же с весами лучше, чем без весов). Лучшее качество --- при embedding_size >= 400 для w2v или fasttext с весами. Попробуем сделать следующее задание для embedding size = 400 --- w2v без весов."
      ],
      "metadata": {
        "id": "Wn7zDiStLdMb"
      }
    },
    {
      "cell_type": "markdown",
      "metadata": {
        "id": "9AjabHMsXXBu"
      },
      "source": [
        "Предскажите вашей лучшей моделью из этого задания тестовые данные из [соревнования](https://www.kaggle.com/t/325e82797935464aa07c254b3cc3d8ad) и сделайте сабмит. Какой у вас получился скор? Прикрепите скриншот из кэггла."
      ]
    },
    {
      "cell_type": "code",
      "source": [
        "w2vmodel = gensim.models.Word2Vec(train['full'], size=400, min_count=1)\n",
        "train['vector'] = train['full'].apply(lambda words: vectorize(w2vmodel, words))\n",
        "X = list(train['vector'].values)\n",
        "y = list(train['score'].values)"
      ],
      "metadata": {
        "id": "LZEwrxtnM8_1"
      },
      "execution_count": null,
      "outputs": []
    },
    {
      "cell_type": "code",
      "source": [
        "model = LinearRegression().fit(X, y)\n",
        "test['vector'] = test['full'].apply(lambda words: vectorize(w2vmodel, words))\n",
        "\n",
        "X = list(test['vector'].values)\n",
        "result = model.predict(X)"
      ],
      "metadata": {
        "id": "n6qVQtKwOQxO"
      },
      "execution_count": null,
      "outputs": []
    },
    {
      "cell_type": "code",
      "source": [
        "result = pd.DataFrame(data=result, columns=['score']).set_index(test.review_id)"
      ],
      "metadata": {
        "id": "BQByoxs6PV39"
      },
      "execution_count": null,
      "outputs": []
    },
    {
      "cell_type": "code",
      "source": [
        "result.to_csv('task2.csv')\n",
        "!cp task2.csv \"drive/My Drive/\""
      ],
      "metadata": {
        "id": "AvGubIgNPf19"
      },
      "execution_count": null,
      "outputs": []
    },
    {
      "cell_type": "markdown",
      "source": [
        "![image.png](data:image/png;base64,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)"
      ],
      "metadata": {
        "id": "UbhhykbZQbNN"
      }
    },
    {
      "cell_type": "markdown",
      "metadata": {
        "id": "EO5TZriLXHaT"
      },
      "source": [
        "### Часть 3. 4 балла"
      ]
    },
    {
      "cell_type": "markdown",
      "metadata": {
        "id": "5RNngNdWXHaT"
      },
      "source": [
        "Теперь давайте воспользуемся более продвинутыми методами обработки текстовых данных, которые мы проходили в нашем курсе. Обучите RNN/Transformer для предсказания пользовательской оценки. Получите ошибку меньше, чем во всех вышеперечисленных методах."
      ]
    },
    {
      "cell_type": "markdown",
      "metadata": {
        "id": "_8YdTedQXHaT"
      },
      "source": [
        "Если будете обучать RNN, попробуйте ограничить максимальную длину предложения. Некоторые отзывы могут быть слишком длинные относительно остальных.\n",
        "\n",
        "Чтобы пользоваться DataLoader, все его элементы должны быть одинаковой размерности. Для этого вы можете добавить нулевой паддинг ко всем предложениям (см пример pad_sequence)"
      ]
    },
    {
      "cell_type": "code",
      "metadata": {
        "id": "89Y9wsViXHaU"
      },
      "source": [
        "import torch\n",
        "from torch import nn\n",
        "from torch.nn import functional as F"
      ],
      "execution_count": 125,
      "outputs": []
    },
    {
      "cell_type": "code",
      "metadata": {
        "id": "dPOjSwwwXHaU"
      },
      "source": [
        "# формируем словарь\n",
        "\n",
        "WORDS = set()\n",
        "for sent in list(train['positive']):\n",
        "    for w in sent:\n",
        "        WORDS.add(w)\n",
        "        \n",
        "for sent in list(train['negative']):\n",
        "    for w in sent:\n",
        "        WORDS.add(w)"
      ],
      "execution_count": 126,
      "outputs": []
    },
    {
      "cell_type": "code",
      "metadata": {
        "id": "EMQ-cVxGXHaU"
      },
      "source": [
        "# по номеру слова получаем слово и наоборот\n",
        "\n",
        "int2word = dict(enumerate(tuple(WORDS)))\n",
        "word2int = {w: ii for ii, w in int2word.items()}"
      ],
      "execution_count": 127,
      "outputs": []
    },
    {
      "cell_type": "code",
      "metadata": {
        "id": "GiKyqKIWXHaU"
      },
      "source": [
        "# максимальная длина отзыва\n",
        "\n",
        "MAX_LEN = max(max(train['positive'].apply(len)), max(train['negative'].apply(len)))"
      ],
      "execution_count": 128,
      "outputs": []
    },
    {
      "cell_type": "code",
      "metadata": {
        "id": "81o6S3_AXHaU",
        "outputId": "a35d4b4a-06b8-44d2-eed5-063ae14678c4",
        "colab": {
          "base_uri": "https://localhost:8080/"
        }
      },
      "source": [
        "MAX_LEN"
      ],
      "execution_count": null,
      "outputs": [
        {
          "output_type": "execute_result",
          "data": {
            "text/plain": [
              "392"
            ]
          },
          "metadata": {},
          "execution_count": 14
        }
      ]
    },
    {
      "cell_type": "code",
      "metadata": {
        "id": "76PDJ4yTXHaV"
      },
      "source": [
        "# класс для датасетов\n",
        "\n",
        "class ReviewsDataset(torch.utils.data.Dataset):\n",
        "    def __init__(self, df):\n",
        "        self.texts = df['full']\n",
        "        self.scores = df['score']\n",
        "        \n",
        "    def __len__(self):\n",
        "        return len(self.texts)\n",
        "    \n",
        "    def __getitem__(self, idx):\n",
        "        review = self.texts.iloc[idx]\n",
        "        review_tensor = torch.as_tensor([word2int[w] for w in review][:MAX_LEN])\n",
        "        review_padded = F.pad(review_tensor, (0, MAX_LEN - len(review_tensor)), 'constant', 0)\n",
        "\n",
        "        return review_padded, torch.tensor(self.scores.iloc[idx], dtype=torch.float32)"
      ],
      "execution_count": 129,
      "outputs": []
    },
    {
      "cell_type": "code",
      "source": [
        "# формируем батчи размера 4\n",
        "\n",
        "BATCH_SIZE = 4\n",
        "\n",
        "df_train, df_test = train_test_split(train)\n",
        "train_dataset = ReviewsDataset(df_train)\n",
        "test_dataset = ReviewsDataset(df_test)\n",
        "\n",
        "train_dataloader = torch.utils.data.DataLoader(train_dataset, batch_size=BATCH_SIZE)\n",
        "test_dataloader = torch.utils.data.DataLoader(test_dataset, batch_size=BATCH_SIZE)"
      ],
      "metadata": {
        "id": "m3tz5zZbBbCO"
      },
      "execution_count": null,
      "outputs": []
    },
    {
      "cell_type": "code",
      "metadata": {
        "id": "PQI2EGzbXHaV"
      },
      "source": [
        "# нулевой паддинг, чтобы все элементы DataLoader были одинаковой размерности\n",
        "\n",
        "from torch.nn.utils.rnn import pad_sequence\n",
        "\n",
        "train_pos_pad = pad_sequence([torch.as_tensor([word2int[w] for w in seq][:MAX_LEN]) for seq in df_train['positive']], \n",
        "                           batch_first=True)"
      ],
      "execution_count": 131,
      "outputs": []
    },
    {
      "cell_type": "code",
      "source": [
        "assert len(train_dataset[0]) == 2\n",
        "assert len(train_dataset[0][0]) == MAX_LEN"
      ],
      "metadata": {
        "id": "T9xGdyQj5hVc"
      },
      "execution_count": 89,
      "outputs": []
    },
    {
      "cell_type": "code",
      "source": [
        "for text, score in train_dataloader:\n",
        "  print(text, score)\n",
        "  break"
      ],
      "metadata": {
        "colab": {
          "base_uri": "https://localhost:8080/"
        },
        "id": "_0m1jO-S_z7f",
        "outputId": "342a32bc-ac32-49a6-f274-b7c215555bed"
      },
      "execution_count": 132,
      "outputs": [
        {
          "output_type": "stream",
          "name": "stdout",
          "text": [
            "tensor([[ 5140, 30435,    56,  ...,     0,     0,     0],\n",
            "        [ 9634, 45287, 34302,  ...,     0,     0,     0],\n",
            "        [ 9911, 33224, 29211,  ...,     0,     0,     0],\n",
            "        [32376,  8453,  1055,  ...,     0,     0,     0]]) tensor([6.3000, 4.2000, 8.3000, 9.6000])\n"
          ]
        }
      ]
    },
    {
      "cell_type": "code",
      "source": [
        "# класс для модели\n",
        "\n",
        "class ReviewModel(nn.Module):\n",
        "  def __init__(self, input_size, embedding_dim, hidden_dim, n_lstm_layers, vocab_size):\n",
        "        super(ReviewModel, self).__init__()\n",
        "\n",
        "        self.input_size = input_size\n",
        "        self.hidden_dim = hidden_dim\n",
        "\n",
        "        self.word_embeddings = nn.Embedding(vocab_size, embedding_dim)\n",
        "        self.lstm = nn.LSTM(input_size=embedding_dim, \n",
        "                            hidden_size=self.hidden_dim, \n",
        "                            num_layers=n_lstm_layers,\n",
        "                            batch_first=True)\n",
        "        self.relu = nn.ReLU()\n",
        "        self.linear1 = nn.Linear(self.hidden_dim * input_size, 300)\n",
        "        self.linear2 = nn.Linear(300, 1)\n",
        "\n",
        "  def forward(self, sentence):\n",
        "      embeds = self.word_embeddings(sentence)\n",
        "      lstm_out, _ = self.lstm(embeds)\n",
        "      relu_out = self.relu(lstm_out.reshape(lstm_out.shape[0], -1))\n",
        "      lin1_out = self.linear1(relu_out)\n",
        "      score = self.linear2(self.relu(lin1_out))\n",
        "      return score.view(-1)"
      ],
      "metadata": {
        "id": "aMLQEBOL_1Xu"
      },
      "execution_count": 180,
      "outputs": []
    },
    {
      "cell_type": "code",
      "source": [
        "# одна эпоха обучения + предсказание\n",
        "\n",
        "def train_one_epoch(model, train_dataloader, criterion, optimizer, device=\"cuda:0\"):\n",
        "    model = model.to(device).train()\n",
        "    num_batches = 0\n",
        "    total_predictions = np.array([])\n",
        "    total_scores = np.array([])\n",
        "    pbar = tqdm(enumerate(train_dataloader), total=len(train_dataloader), position=0, leave=True)\n",
        "    for reviews, scores in train_dataloader:\n",
        "        reviews = reviews.to(device)\n",
        "        scores = scores.to(device)\n",
        "        predicted = model(reviews)\n",
        "        loss = criterion(predicted, scores)\n",
        "        loss.backward()\n",
        "        optimizer.step()\n",
        "        optimizer.zero_grad()\n",
        "        pbar.update(1)\n",
        "\n",
        "        total_predictions = np.append(total_predictions, predicted.cpu().detach().numpy())\n",
        "        total_scores = np.append(total_scores, scores.cpu().detach().numpy())\n",
        "        num_batches += 1\n",
        "\n",
        "    metrics = {'mae': mean_absolute_error(total_predictions, total_scores)}\n",
        "    pbar.set_description(f\"Train mae: {round(metrics['mae'], 4)}\")\n",
        "    return metrics\n",
        "\n",
        "def predict(model, val_dataloader, criterion, device=\"cuda:0\"):\n",
        "    model = model.to(device).eval()\n",
        "    num_batches = 0\n",
        "    total_predictions = np.array([])\n",
        "    total_scores = np.array([])\n",
        "    pbar = tqdm(enumerate(val_dataloader), total=len(val_dataloader), position=0, leave=True)\n",
        "    for i, (reviews, scores) in pbar:\n",
        "        reviews = reviews.to(device)\n",
        "        scores = scores.to(device)\n",
        "        predicted = model(reviews)\n",
        "        total_predictions = np.append(total_predictions, predicted.cpu().detach().numpy())\n",
        "        total_scores = np.append(total_scores, scores.cpu().detach().numpy())\n",
        "        num_batches += 1\n",
        "        pbar.update(1)\n",
        "    metrics = {'mae': mean_absolute_error(total_predictions, total_scores)}\n",
        "    return metrics, total_predictions, total_scores"
      ],
      "metadata": {
        "id": "YapxF7UNCPCO"
      },
      "execution_count": 181,
      "outputs": []
    },
    {
      "cell_type": "code",
      "source": [
        "# обучение\n",
        "\n",
        "NUM_EPOCHS = 1\n",
        "\n",
        "def train(model, train_dataloader, val_dataloader, criterion, optimizer, device=\"cuda:0\", n_epochs=NUM_EPOCHS, scheduler=None):\n",
        "  model = model.to(device)\n",
        "  for epoch in range(n_epochs):\n",
        "      print(f\"Train Epoch: {epoch}\")\n",
        "      train_metrics = train_one_epoch(\n",
        "          model=model,\n",
        "          train_dataloader=train_dataloader,\n",
        "          criterion=criterion,\n",
        "          optimizer=optimizer,\n",
        "          device=device\n",
        "      )        \n",
        "      # Eval step\n",
        "      print(f\"Validation Epoch: {epoch}\")\n",
        "      with torch.no_grad():\n",
        "          validation_metrics, total_predictions, total_scores = predict(\n",
        "              model=model,\n",
        "              val_dataloader=val_dataloader,\n",
        "              criterion=criterion,\n",
        "              device=device\n",
        "          )\n",
        "      print(f\"Validation mae: {round(validation_metrics['mae'], 4)}\")\n",
        "      scheduler.step(validation_metrics['mae'])"
      ],
      "metadata": {
        "id": "q4mmTmth_4jE"
      },
      "execution_count": 182,
      "outputs": []
    },
    {
      "cell_type": "code",
      "source": [
        "from tqdm.notebook import tqdm\n",
        "\n",
        "model = ReviewModel(input_size=MAX_LEN, embedding_dim=300, hidden_dim=64, n_lstm_layers=2, vocab_size=len(word2int))\n",
        "\n",
        "optimizer = torch.optim.SGD(model.parameters(), lr=0.01, momentum=0.9) \n",
        "criterion = torch.nn.L1Loss() \n",
        "scheduler = torch.optim.lr_scheduler.ReduceLROnPlateau(optimizer, 'min')\n",
        "n_epochs = 3\n",
        "device = torch.device(\"cuda:0\") if torch.cuda.is_available() else torch.device(\"cpu\")\n",
        "\n",
        "train(model, train_dataloader, test_dataloader, criterion, optimizer, device, n_epochs, scheduler)"
      ],
      "metadata": {
        "colab": {
          "base_uri": "https://localhost:8080/",
          "height": 269,
          "referenced_widgets": [
            "e67bc1ffe4ca445b86bed843083d5a90",
            "de51f3ec21574fbd9ced6e3e6a3e6a3b",
            "a622ee9e5a774ca6ba47124ed46aef7e",
            "78d8c4ecfa0949e0b4f1a0b9a10c526f",
            "899604cfb7314c59993b8d1002fb6fb5",
            "c984b103ad394893b4f2ec805653eb58",
            "7b6834483d484547baa7f040b14a106a",
            "1dc56b91fa8344739ac8f523838c5d4b",
            "b31ab7fd63f944e0a8758936301a2b94",
            "d61d81e01e984255b46ce414e1bcca0c",
            "f7dd181bf77842aeb584d4a1f78d28ad",
            "83a37525f5a7463d8ada3b67cd322a5c",
            "e38772ea14a74a69a09568a70f05e58f",
            "f667183c389647a28a719564e4c60eda",
            "a970827418de48e8be355db58ce747d5",
            "efadf05867fb4aee8c9a93154762a982",
            "f401e9b761014c58a75b8519d649b3f0",
            "7ddd6fea02a54162a77c8f7f48fda4de",
            "93022ae66c684347b77c4d1131421e0a",
            "6aa4e92155064bd7a1b47194ab143877",
            "c48251ef58fb4854be30c9f498d3219f",
            "2be390a83a9e421492802120e1878c14",
            "1a97ca59a40f42dda624bc933e9e0052",
            "9ba5e3ae179a4a1986c425d5d831969c",
            "90ae46a2e4224cba9d691e44cf9fb7b1",
            "11b3bdcae2f54bcbbecca744ed09372f",
            "58601429da1745c08f6cc799fb7a7627",
            "f0e29cdd8222417590f5312697f715b1",
            "40929170bce24e5db1897b61ee28d9bd",
            "49f0bde0e63849788685cec95d9f5526",
            "692b117b31b04100acd9926cd20a6b95",
            "7ad34434851c4796a7fa949b42aefeed",
            "624b7f5b042c4895954ae88293690c8f"
          ]
        },
        "id": "C0DwbJlU8EZa",
        "outputId": "0b7a6fc0-b5af-45eb-8ebb-95190f02523d"
      },
      "execution_count": 153,
      "outputs": [
        {
          "output_type": "stream",
          "name": "stdout",
          "text": [
            "Train Epoch: 0\n"
          ]
        },
        {
          "output_type": "display_data",
          "data": {
            "application/vnd.jupyter.widget-view+json": {
              "model_id": "e67bc1ffe4ca445b86bed843083d5a90",
              "version_minor": 0,
              "version_major": 2
            },
            "text/plain": [
              "  0%|          | 0/18749 [00:00<?, ?it/s]"
            ]
          },
          "metadata": {}
        },
        {
          "output_type": "stream",
          "name": "stdout",
          "text": [
            "Validation Epoch: 0\n",
            "Validation mae: 0.81\n",
            "Train Epoch: 1\n"
          ]
        },
        {
          "output_type": "display_data",
          "data": {
            "application/vnd.jupyter.widget-view+json": {
              "model_id": "83a37525f5a7463d8ada3b67cd322a5c",
              "version_minor": 0,
              "version_major": 2
            },
            "text/plain": [
              "  0%|          | 0/18749 [00:00<?, ?it/s]"
            ]
          },
          "metadata": {}
        },
        {
          "output_type": "stream",
          "name": "stdout",
          "text": [
            "Validation Epoch: 1\n",
            "Validation mae: 0.7873\n",
            "Train Epoch: 2\n"
          ]
        },
        {
          "output_type": "display_data",
          "data": {
            "application/vnd.jupyter.widget-view+json": {
              "model_id": "1a97ca59a40f42dda624bc933e9e0052",
              "version_minor": 0,
              "version_major": 2
            },
            "text/plain": [
              "  0%|          | 0/18749 [00:00<?, ?it/s]"
            ]
          },
          "metadata": {}
        },
        {
          "output_type": "stream",
          "name": "stdout",
          "text": [
            "Validation Epoch: 2\n",
            "Validation mae: 0.767\n"
          ]
        }
      ]
    },
    {
      "cell_type": "markdown",
      "source": [
        "Получила!"
      ],
      "metadata": {
        "id": "tbVd2DMCa7P0"
      }
    },
    {
      "cell_type": "markdown",
      "metadata": {
        "id": "n3OeNQkoXHaW"
      },
      "source": [
        "### Контест (до 3 баллов)\n",
        "\n",
        "По итогам всех ваших экспериментов выберите модель, которую считаете лучшей. Сделайте сабмит в контест. В зависимости от вашего скора на публичном лидерборде, мы начислим вам баллы:\n",
        "\n",
        " - <0.77 - 3 балла\n",
        " - [0.77; 0.78) - 2 балла\n",
        " - [0.78; 0.8) - 1 балл"
      ]
    },
    {
      "cell_type": "markdown",
      "source": [
        "![image.png](data:image/png;base64,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)"
      ],
      "metadata": {
        "id": "xhj1cC29TIUh"
      }
    },
    {
      "cell_type": "markdown",
      "source": [
        "Ура! Было еще переобучение сначала, но покрутила гиперпараметры --- стало нормально."
      ],
      "metadata": {
        "id": "3NtbCZynTOkU"
      }
    }
  ]
}